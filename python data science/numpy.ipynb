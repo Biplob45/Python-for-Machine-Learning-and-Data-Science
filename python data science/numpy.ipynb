{
 "cells": [
  {
   "cell_type": "markdown",
   "metadata": {
    "colab_type": "text",
    "id": "V47d-eQeQqzc"
   },
   "source": [
    "## Referances\n",
    "1 : https://docs.scipy.org/doc/numpy-1.15.1/user/quickstart.html#the-basics\n",
    "\n",
    "2 : http://cs231n.github.io/python-numpy-tutorial/\n",
    "\n",
    "3 : https://github.com/jrjohansson/scientific-python-lectures\n",
    "\n",
    "4 : https://github.com/tpcarneiro/Python-Data-Science-and-Machine-Learning-Bootcamp\n",
    "\n",
    "5 : https://stackoverflow.com/questions/993984/what-are-the-advantages-of-numpy-over-regular-python-lists"
   ]
  },
  {
   "cell_type": "code",
   "execution_count": 2,
   "metadata": {
    "colab": {},
    "colab_type": "code",
    "id": "BOslIkbuYh0V"
   },
   "outputs": [],
   "source": [
    "import numpy as np\n",
    "# from numpy import *"
   ]
  },
  {
   "cell_type": "code",
   "execution_count": 3,
   "metadata": {
    "colab": {
     "base_uri": "https://localhost:8080/",
     "height": 54
    },
    "colab_type": "code",
    "executionInfo": {
     "elapsed": 1776,
     "status": "ok",
     "timestamp": 1543471241422,
     "user": {
      "displayName": "Sayef Reyadh",
      "photoUrl": "https://lh5.googleusercontent.com/-s1pIgqWAP8s/AAAAAAAAAAI/AAAAAAAAAAc/E8XQqfGUQDE/s64/photo.jpg",
      "userId": "08881255222991216204"
     },
     "user_tz": -360
    },
    "id": "gntMJdd2Y_R-",
    "outputId": "c9f22046-f582-4bdc-9471-00eb4fdd86e5"
   },
   "outputs": [
    {
     "data": {
      "text/plain": [
       "array([[ 1,  2,  3,  4,  5],\n",
       "       [ 6,  7,  8,  9, 10]])"
      ]
     },
     "execution_count": 3,
     "metadata": {},
     "output_type": "execute_result"
    }
   ],
   "source": [
    "python_list = [[1,2,3,4,5], [6,7,8,9,10]]\n",
    "\n",
    "arr = np.array(python_list) \n",
    "\n",
    "arr"
   ]
  },
  {
   "cell_type": "code",
   "execution_count": 4,
   "metadata": {},
   "outputs": [
    {
     "data": {
      "text/plain": [
       "numpy.ndarray"
      ]
     },
     "execution_count": 4,
     "metadata": {},
     "output_type": "execute_result"
    }
   ],
   "source": [
    "type(arr)"
   ]
  },
  {
   "cell_type": "code",
   "execution_count": 5,
   "metadata": {
    "colab": {
     "base_uri": "https://localhost:8080/",
     "height": 36
    },
    "colab_type": "code",
    "executionInfo": {
     "elapsed": 1715,
     "status": "ok",
     "timestamp": 1543471241424,
     "user": {
      "displayName": "Sayef Reyadh",
      "photoUrl": "https://lh5.googleusercontent.com/-s1pIgqWAP8s/AAAAAAAAAAI/AAAAAAAAAAc/E8XQqfGUQDE/s64/photo.jpg",
      "userId": "08881255222991216204"
     },
     "user_tz": -360
    },
    "id": "RIwDWzzJZ-8N",
    "outputId": "11df776e-7509-471d-a183-1f0b7a5c1031"
   },
   "outputs": [
    {
     "data": {
      "text/plain": [
       "array([ 0,  2,  4,  6,  8, 10, 12, 14, 16, 18])"
      ]
     },
     "execution_count": 5,
     "metadata": {},
     "output_type": "execute_result"
    }
   ],
   "source": [
    "arr = np.arange(0, 20 , 2)\n",
    "\n",
    "arr"
   ]
  },
  {
   "cell_type": "code",
   "execution_count": 6,
   "metadata": {
    "colab": {
     "base_uri": "https://localhost:8080/",
     "height": 91
    },
    "colab_type": "code",
    "executionInfo": {
     "elapsed": 1653,
     "status": "ok",
     "timestamp": 1543471241427,
     "user": {
      "displayName": "Sayef Reyadh",
      "photoUrl": "https://lh5.googleusercontent.com/-s1pIgqWAP8s/AAAAAAAAAAI/AAAAAAAAAAc/E8XQqfGUQDE/s64/photo.jpg",
      "userId": "08881255222991216204"
     },
     "user_tz": -360
    },
    "id": "N4YqeJlnEa-6",
    "outputId": "4ba12647-69ec-4dad-87ae-71dd1ac9978f"
   },
   "outputs": [
    {
     "data": {
      "text/plain": [
       "array([[0, 0, 0],\n",
       "       [0, 0, 0],\n",
       "       [0, 0, 0],\n",
       "       [0, 0, 0]])"
      ]
     },
     "execution_count": 6,
     "metadata": {},
     "output_type": "execute_result"
    }
   ],
   "source": [
    "np.zeros((4,3) , dtype = \"int\")"
   ]
  },
  {
   "cell_type": "code",
   "execution_count": 7,
   "metadata": {
    "colab": {
     "base_uri": "https://localhost:8080/",
     "height": 36
    },
    "colab_type": "code",
    "executionInfo": {
     "elapsed": 1609,
     "status": "ok",
     "timestamp": 1543471241433,
     "user": {
      "displayName": "Sayef Reyadh",
      "photoUrl": "https://lh5.googleusercontent.com/-s1pIgqWAP8s/AAAAAAAAAAI/AAAAAAAAAAc/E8XQqfGUQDE/s64/photo.jpg",
      "userId": "08881255222991216204"
     },
     "user_tz": -360
    },
    "id": "aQdah9XLEy0O",
    "outputId": "c2a45c79-c590-4975-e3ac-436360156e0c"
   },
   "outputs": [
    {
     "data": {
      "text/plain": [
       "array([1., 1., 1., 1., 1.])"
      ]
     },
     "execution_count": 7,
     "metadata": {},
     "output_type": "execute_result"
    }
   ],
   "source": [
    "np.ones(5)"
   ]
  },
  {
   "cell_type": "code",
   "execution_count": 8,
   "metadata": {},
   "outputs": [
    {
     "data": {
      "text/plain": [
       "array([[1, 1, 1, 1, 1],\n",
       "       [1, 1, 1, 1, 1],\n",
       "       [1, 1, 1, 1, 1],\n",
       "       [1, 1, 1, 1, 1]])"
      ]
     },
     "execution_count": 8,
     "metadata": {},
     "output_type": "execute_result"
    }
   ],
   "source": [
    "np.ones((4,5), dtype = \"int\")"
   ]
  },
  {
   "cell_type": "code",
   "execution_count": 9,
   "metadata": {
    "colab": {
     "base_uri": "https://localhost:8080/",
     "height": 91
    },
    "colab_type": "code",
    "executionInfo": {
     "elapsed": 2119,
     "status": "ok",
     "timestamp": 1543471241990,
     "user": {
      "displayName": "Sayef Reyadh",
      "photoUrl": "https://lh5.googleusercontent.com/-s1pIgqWAP8s/AAAAAAAAAAI/AAAAAAAAAAc/E8XQqfGUQDE/s64/photo.jpg",
      "userId": "08881255222991216204"
     },
     "user_tz": -360
    },
    "id": "bID7rtR5E-He",
    "outputId": "020b275c-565e-49be-e969-7a33b78fd046"
   },
   "outputs": [
    {
     "data": {
      "text/plain": [
       "array([[10, 10, 10],\n",
       "       [10, 10, 10],\n",
       "       [10, 10, 10],\n",
       "       [10, 10, 10]])"
      ]
     },
     "execution_count": 9,
     "metadata": {},
     "output_type": "execute_result"
    }
   ],
   "source": [
    "np.full((4,3) , 10)"
   ]
  },
  {
   "cell_type": "code",
   "execution_count": 10,
   "metadata": {},
   "outputs": [
    {
     "data": {
      "text/plain": [
       "array([['biplob', 'biplob', 'biplob', 'biplob', 'biplob', 'biplob'],\n",
       "       ['biplob', 'biplob', 'biplob', 'biplob', 'biplob', 'biplob'],\n",
       "       ['biplob', 'biplob', 'biplob', 'biplob', 'biplob', 'biplob'],\n",
       "       ['biplob', 'biplob', 'biplob', 'biplob', 'biplob', 'biplob'],\n",
       "       ['biplob', 'biplob', 'biplob', 'biplob', 'biplob', 'biplob']],\n",
       "      dtype='<U6')"
      ]
     },
     "execution_count": 10,
     "metadata": {},
     "output_type": "execute_result"
    }
   ],
   "source": [
    "np.full((5,6) , \"biplob\")"
   ]
  },
  {
   "cell_type": "code",
   "execution_count": 11,
   "metadata": {
    "colab": {
     "base_uri": "https://localhost:8080/",
     "height": 91
    },
    "colab_type": "code",
    "executionInfo": {
     "elapsed": 2072,
     "status": "ok",
     "timestamp": 1543471241994,
     "user": {
      "displayName": "Sayef Reyadh",
      "photoUrl": "https://lh5.googleusercontent.com/-s1pIgqWAP8s/AAAAAAAAAAI/AAAAAAAAAAc/E8XQqfGUQDE/s64/photo.jpg",
      "userId": "08881255222991216204"
     },
     "user_tz": -360
    },
    "id": "OhKSjX6WFP-E",
    "outputId": "3ce7eb34-012e-41b4-8a0f-8f76927ff714"
   },
   "outputs": [
    {
     "data": {
      "text/plain": [
       "array([[1., 0., 0., 0., 0., 0.],\n",
       "       [0., 1., 0., 0., 0., 0.],\n",
       "       [0., 0., 1., 0., 0., 0.],\n",
       "       [0., 0., 0., 1., 0., 0.],\n",
       "       [0., 0., 0., 0., 1., 0.],\n",
       "       [0., 0., 0., 0., 0., 1.]])"
      ]
     },
     "execution_count": 11,
     "metadata": {},
     "output_type": "execute_result"
    }
   ],
   "source": [
    "#For Creating Identity matrix\n",
    "np.eye(6)"
   ]
  },
  {
   "cell_type": "code",
   "execution_count": 12,
   "metadata": {},
   "outputs": [
    {
     "data": {
      "text/plain": [
       "array([[1., 0., 0., 0., 0.],\n",
       "       [0., 1., 0., 0., 0.],\n",
       "       [0., 0., 1., 0., 0.],\n",
       "       [0., 0., 0., 1., 0.],\n",
       "       [0., 0., 0., 0., 1.]])"
      ]
     },
     "execution_count": 12,
     "metadata": {},
     "output_type": "execute_result"
    }
   ],
   "source": [
    "np.eye(5,5)"
   ]
  },
  {
   "cell_type": "code",
   "execution_count": 13,
   "metadata": {
    "colab": {
     "base_uri": "https://localhost:8080/",
     "height": 74
    },
    "colab_type": "code",
    "executionInfo": {
     "elapsed": 2039,
     "status": "ok",
     "timestamp": 1543471241999,
     "user": {
      "displayName": "Sayef Reyadh",
      "photoUrl": "https://lh5.googleusercontent.com/-s1pIgqWAP8s/AAAAAAAAAAI/AAAAAAAAAAc/E8XQqfGUQDE/s64/photo.jpg",
      "userId": "08881255222991216204"
     },
     "user_tz": -360
    },
    "id": "W8Ro36tCFm9T",
    "outputId": "5aed90c1-dd74-4a6a-d672-423760122173"
   },
   "outputs": [
    {
     "data": {
      "text/plain": [
       "array([-1.        , -0.77777778, -0.55555556, -0.33333333, -0.11111111,\n",
       "        0.11111111,  0.33333333,  0.55555556,  0.77777778,  1.        ])"
      ]
     },
     "execution_count": 13,
     "metadata": {},
     "output_type": "execute_result"
    }
   ],
   "source": [
    "np.linspace(-1,1,10)"
   ]
  },
  {
   "cell_type": "code",
   "execution_count": 14,
   "metadata": {},
   "outputs": [
    {
     "data": {
      "text/plain": [
       "array([   0.,  125.,  250.,  375.,  500.,  625.,  750.,  875., 1000.])"
      ]
     },
     "execution_count": 14,
     "metadata": {},
     "output_type": "execute_result"
    }
   ],
   "source": [
    "#import matplotlib.pyplot as plt\n",
    "#var = np.linspace(0,1000,9)\n",
    "#print(var)\n",
    "#plt.hist(var)\n",
    "\n",
    "np.linspace(0,1000,9)"
   ]
  },
  {
   "cell_type": "code",
   "execution_count": 15,
   "metadata": {
    "colab": {
     "base_uri": "https://localhost:8080/",
     "height": 54
    },
    "colab_type": "code",
    "executionInfo": {
     "elapsed": 2004,
     "status": "ok",
     "timestamp": 1543471242002,
     "user": {
      "displayName": "Sayef Reyadh",
      "photoUrl": "https://lh5.googleusercontent.com/-s1pIgqWAP8s/AAAAAAAAAAI/AAAAAAAAAAc/E8XQqfGUQDE/s64/photo.jpg",
      "userId": "08881255222991216204"
     },
     "user_tz": -360
    },
    "id": "VaYRAvnkF3e8",
    "outputId": "a4e07e43-a805-4874-df68-1db53566d164"
   },
   "outputs": [
    {
     "data": {
      "text/plain": [
       "array([1.00000000e+00, 5.29449005e+00, 2.80316249e+01, 1.48413159e+02,\n",
       "       7.85771994e+02, 4.16026201e+03, 2.20264658e+04])"
      ]
     },
     "execution_count": 15,
     "metadata": {},
     "output_type": "execute_result"
    }
   ],
   "source": [
    "np.logspace(0,10,7,base=np.e)  #epsilon"
   ]
  },
  {
   "cell_type": "code",
   "execution_count": 16,
   "metadata": {},
   "outputs": [
    {
     "data": {
      "text/plain": [
       "array([1.00000000e+000, 1.93069773e+014, 3.72759372e+028, 7.19685673e+042,\n",
       "       1.38949549e+057, 2.68269580e+071, 5.17947468e+085, 1.00000000e+100])"
      ]
     },
     "execution_count": 16,
     "metadata": {},
     "output_type": "execute_result"
    }
   ],
   "source": [
    "np.logspace(0,100,8)  #Default 10 base log"
   ]
  },
  {
   "cell_type": "code",
   "execution_count": 17,
   "metadata": {},
   "outputs": [
    {
     "data": {
      "text/plain": [
       "array([2.71828183e+00, 1.53047486e+03, 8.61703624e+05, 4.85165195e+08])"
      ]
     },
     "execution_count": 17,
     "metadata": {},
     "output_type": "execute_result"
    }
   ],
   "source": [
    "np.logspace(1,20,4, base=np.e)"
   ]
  },
  {
   "cell_type": "code",
   "execution_count": 18,
   "metadata": {
    "colab": {
     "base_uri": "https://localhost:8080/",
     "height": 73
    },
    "colab_type": "code",
    "executionInfo": {
     "elapsed": 1987,
     "status": "ok",
     "timestamp": 1543471242004,
     "user": {
      "displayName": "Sayef Reyadh",
      "photoUrl": "https://lh5.googleusercontent.com/-s1pIgqWAP8s/AAAAAAAAAAI/AAAAAAAAAAc/E8XQqfGUQDE/s64/photo.jpg",
      "userId": "08881255222991216204"
     },
     "user_tz": -360
    },
    "id": "JwQgvTBmNUCU",
    "outputId": "4994822b-e9de-42c6-e48d-ce93b92a2e2f"
   },
   "outputs": [
    {
     "data": {
      "text/plain": [
       "array([[4, 0, 0],\n",
       "       [0, 5, 0],\n",
       "       [0, 0, 6]])"
      ]
     },
     "execution_count": 18,
     "metadata": {},
     "output_type": "execute_result"
    }
   ],
   "source": [
    "#For Creating diagonal matrix\n",
    "np.diag([4,5,6])"
   ]
  },
  {
   "cell_type": "code",
   "execution_count": 19,
   "metadata": {},
   "outputs": [
    {
     "data": {
      "text/plain": [
       "array([[3, 0, 0, 0],\n",
       "       [0, 5, 0, 0],\n",
       "       [0, 0, 2, 0],\n",
       "       [0, 0, 0, 8]])"
      ]
     },
     "execution_count": 19,
     "metadata": {},
     "output_type": "execute_result"
    }
   ],
   "source": [
    "np.diag([3,5,2,8])"
   ]
  },
  {
   "cell_type": "code",
   "execution_count": 20,
   "metadata": {
    "colab": {
     "base_uri": "https://localhost:8080/",
     "height": 110
    },
    "colab_type": "code",
    "executionInfo": {
     "elapsed": 1946,
     "status": "ok",
     "timestamp": 1543471242007,
     "user": {
      "displayName": "Sayef Reyadh",
      "photoUrl": "https://lh5.googleusercontent.com/-s1pIgqWAP8s/AAAAAAAAAAI/AAAAAAAAAAc/E8XQqfGUQDE/s64/photo.jpg",
      "userId": "08881255222991216204"
     },
     "user_tz": -360
    },
    "id": "mUdVva60NfvG",
    "outputId": "8a60f5f8-95cf-40a6-dda3-a6498f49f59c"
   },
   "outputs": [
    {
     "data": {
      "text/plain": [
       "array([[[0.88241159, 0.4259069 ],\n",
       "        [0.43014995, 0.85966776]],\n",
       "\n",
       "       [[0.03859588, 0.94508345],\n",
       "        [0.61008843, 0.63843392]]])"
      ]
     },
     "execution_count": 20,
     "metadata": {},
     "output_type": "execute_result"
    }
   ],
   "source": [
    "#uniform distributed number\n",
    "np.random.rand(2,2,2)"
   ]
  },
  {
   "cell_type": "code",
   "execution_count": 21,
   "metadata": {},
   "outputs": [
    {
     "data": {
      "text/plain": [
       "array([[[0.98391073, 0.02899304],\n",
       "        [0.02220258, 0.77515051],\n",
       "        [0.74790272, 0.14650282],\n",
       "        [0.20438186, 0.91218836],\n",
       "        [0.47777058, 0.19585821],\n",
       "        [0.25983654, 0.5324499 ]],\n",
       "\n",
       "       [[0.89135387, 0.28735543],\n",
       "        [0.79143084, 0.46776882],\n",
       "        [0.99215617, 0.09199058],\n",
       "        [0.21795872, 0.61956785],\n",
       "        [0.49134381, 0.82406822],\n",
       "        [0.55831511, 0.94313177]],\n",
       "\n",
       "       [[0.59321459, 0.16622118],\n",
       "        [0.37712989, 0.74927236],\n",
       "        [0.19747257, 0.11970183],\n",
       "        [0.39044733, 0.21462662],\n",
       "        [0.5153162 , 0.25764636],\n",
       "        [0.51624557, 0.15895624]],\n",
       "\n",
       "       [[0.83469021, 0.19962795],\n",
       "        [0.07531457, 0.55953487],\n",
       "        [0.930728  , 0.03830042],\n",
       "        [0.15398503, 0.97448085],\n",
       "        [0.70023092, 0.00136393],\n",
       "        [0.24135467, 0.37773357]],\n",
       "\n",
       "       [[0.40361714, 0.4811582 ],\n",
       "        [0.93609903, 0.50750404],\n",
       "        [0.60520179, 0.8918053 ],\n",
       "        [0.60428104, 0.41783228],\n",
       "        [0.1066275 , 0.72794339],\n",
       "        [0.33988075, 0.99124392]]])"
      ]
     },
     "execution_count": 21,
     "metadata": {},
     "output_type": "execute_result"
    }
   ],
   "source": [
    "np.random.rand(5,6,2)"
   ]
  },
  {
   "cell_type": "code",
   "execution_count": 22,
   "metadata": {
    "colab": {
     "base_uri": "https://localhost:8080/",
     "height": 54
    },
    "colab_type": "code",
    "executionInfo": {
     "elapsed": 1881,
     "status": "ok",
     "timestamp": 1543471242013,
     "user": {
      "displayName": "Sayef Reyadh",
      "photoUrl": "https://lh5.googleusercontent.com/-s1pIgqWAP8s/AAAAAAAAAAI/AAAAAAAAAAc/E8XQqfGUQDE/s64/photo.jpg",
      "userId": "08881255222991216204"
     },
     "user_tz": -360
    },
    "id": "IoUcYtcqONl0",
    "outputId": "e9841aa3-884a-4823-e37c-085e4427191f"
   },
   "outputs": [
    {
     "data": {
      "text/plain": [
       "array([[ 1.18503309,  0.21368123,  0.71494828],\n",
       "       [ 0.62604004,  0.37062097, -1.06091653]])"
      ]
     },
     "execution_count": 22,
     "metadata": {},
     "output_type": "execute_result"
    }
   ],
   "source": [
    "#standard normal distribution\n",
    "np.random.randn(2,3)"
   ]
  },
  {
   "cell_type": "code",
   "execution_count": 23,
   "metadata": {},
   "outputs": [
    {
     "data": {
      "text/plain": [
       "array([[[-1.05579848,  1.65898215,  1.18767715],\n",
       "        [-0.35452509,  0.42069798, -1.34003361]],\n",
       "\n",
       "       [[ 1.24454916,  1.59950608,  0.47428972],\n",
       "        [ 0.13622901, -0.93272407, -1.35159913]]])"
      ]
     },
     "execution_count": 23,
     "metadata": {},
     "output_type": "execute_result"
    }
   ],
   "source": [
    "np.random.randn(2,2,3)"
   ]
  },
  {
   "cell_type": "code",
   "execution_count": 24,
   "metadata": {},
   "outputs": [
    {
     "data": {
      "text/plain": [
       "array([47, 53, 68, 55, 81, 62, 83, 74, 45, 53])"
      ]
     },
     "execution_count": 24,
     "metadata": {},
     "output_type": "execute_result"
    }
   ],
   "source": [
    "np.random.randint(45,90, 10)"
   ]
  },
  {
   "cell_type": "code",
   "execution_count": 25,
   "metadata": {},
   "outputs": [
    {
     "data": {
      "text/plain": [
       "array([38, 41, 39, 32, 23], dtype=int64)"
      ]
     },
     "execution_count": 25,
     "metadata": {},
     "output_type": "execute_result"
    }
   ],
   "source": [
    "np.random.randint(23,45,5 , dtype=\"int64\")"
   ]
  },
  {
   "cell_type": "code",
   "execution_count": 26,
   "metadata": {},
   "outputs": [
    {
     "data": {
      "text/plain": [
       "array([[2, 0, 4],\n",
       "       [4, 9, 3],\n",
       "       [4, 7, 9],\n",
       "       [8, 9, 3]])"
      ]
     },
     "execution_count": 26,
     "metadata": {},
     "output_type": "execute_result"
    }
   ],
   "source": [
    "np.random.randint(0,10,(4,3))"
   ]
  },
  {
   "cell_type": "code",
   "execution_count": 27,
   "metadata": {
    "colab": {},
    "colab_type": "code",
    "id": "x071Ye7KOhU7"
   },
   "outputs": [],
   "source": [
    "arr = np.random.randint(0,10,(4,3))"
   ]
  },
  {
   "cell_type": "code",
   "execution_count": 28,
   "metadata": {
    "colab": {
     "base_uri": "https://localhost:8080/",
     "height": 202
    },
    "colab_type": "code",
    "executionInfo": {
     "elapsed": 1785,
     "status": "ok",
     "timestamp": 1543471242023,
     "user": {
      "displayName": "Sayef Reyadh",
      "photoUrl": "https://lh5.googleusercontent.com/-s1pIgqWAP8s/AAAAAAAAAAI/AAAAAAAAAAc/E8XQqfGUQDE/s64/photo.jpg",
      "userId": "08881255222991216204"
     },
     "user_tz": -360
    },
    "id": "Lsa3cmDMWMH0",
    "outputId": "5fd2a1e2-1870-4d37-80f5-e0437f4efbbf"
   },
   "outputs": [
    {
     "name": "stdout",
     "output_type": "stream",
     "text": [
      "[[4 7 2]\n",
      " [2 6 2]\n",
      " [6 0 9]\n",
      " [5 6 4]]\n"
     ]
    },
    {
     "data": {
      "text/plain": [
       "array([[4, 7],\n",
       "       [2, 2],\n",
       "       [6, 2],\n",
       "       [6, 0],\n",
       "       [9, 5],\n",
       "       [6, 4]])"
      ]
     },
     "execution_count": 28,
     "metadata": {},
     "output_type": "execute_result"
    }
   ],
   "source": [
    "print(arr)\n",
    "arr.reshape(6,2)\n",
    "#arr.reshape(5,5)"
   ]
  },
  {
   "cell_type": "code",
   "execution_count": 29,
   "metadata": {
    "colab": {
     "base_uri": "https://localhost:8080/",
     "height": 128
    },
    "colab_type": "code",
    "executionInfo": {
     "elapsed": 1741,
     "status": "ok",
     "timestamp": 1543471242026,
     "user": {
      "displayName": "Sayef Reyadh",
      "photoUrl": "https://lh5.googleusercontent.com/-s1pIgqWAP8s/AAAAAAAAAAI/AAAAAAAAAAc/E8XQqfGUQDE/s64/photo.jpg",
      "userId": "08881255222991216204"
     },
     "user_tz": -360
    },
    "id": "FovXrv0SXcFk",
    "outputId": "8060278b-7798-4d58-c9d4-8502d70b7b2c"
   },
   "outputs": [
    {
     "name": "stdout",
     "output_type": "stream",
     "text": [
      "[[42 22 98]\n",
      " [65 16 72]\n",
      " [77 61 82]\n",
      " [17 39 93]]\n",
      "16\n",
      "98\n",
      "4\n"
     ]
    }
   ],
   "source": [
    "arr = np.random.randint(0,100,(4,3))\n",
    "print(arr)\n",
    "print(arr.min())\n",
    "print(arr.max())\n",
    "print(arr.argmin())"
   ]
  },
  {
   "cell_type": "code",
   "execution_count": 30,
   "metadata": {},
   "outputs": [],
   "source": [
    "\n",
    "#arr = np.random.randint(12,50,10)\n",
    "#print(arr)\n",
    "#print(arr.max())\n",
    "#print(arr.min())\n",
    "#print(arr.argmax())  #max value position\n",
    "#print(arr.argmin())  #min value position\n"
   ]
  },
  {
   "cell_type": "code",
   "execution_count": 31,
   "metadata": {},
   "outputs": [
    {
     "data": {
      "text/plain": [
       "(4, 3)"
      ]
     },
     "execution_count": 31,
     "metadata": {},
     "output_type": "execute_result"
    }
   ],
   "source": [
    "arr.shape"
   ]
  },
  {
   "cell_type": "code",
   "execution_count": 32,
   "metadata": {
    "colab": {
     "base_uri": "https://localhost:8080/",
     "height": 36
    },
    "colab_type": "code",
    "executionInfo": {
     "elapsed": 1714,
     "status": "ok",
     "timestamp": 1543471242030,
     "user": {
      "displayName": "Sayef Reyadh",
      "photoUrl": "https://lh5.googleusercontent.com/-s1pIgqWAP8s/AAAAAAAAAAI/AAAAAAAAAAc/E8XQqfGUQDE/s64/photo.jpg",
      "userId": "08881255222991216204"
     },
     "user_tz": -360
    },
    "id": "bAwQLw9QYLdT",
    "outputId": "4d2d70f6-e8ac-49f6-b85c-3997daef799b"
   },
   "outputs": [
    {
     "data": {
      "text/plain": [
       "2"
      ]
     },
     "execution_count": 32,
     "metadata": {},
     "output_type": "execute_result"
    }
   ],
   "source": [
    "arr.ndim  #x axis y axis. find out dimension"
   ]
  },
  {
   "cell_type": "code",
   "execution_count": 33,
   "metadata": {
    "colab": {
     "base_uri": "https://localhost:8080/",
     "height": 36
    },
    "colab_type": "code",
    "executionInfo": {
     "elapsed": 1693,
     "status": "ok",
     "timestamp": 1543471242036,
     "user": {
      "displayName": "Sayef Reyadh",
      "photoUrl": "https://lh5.googleusercontent.com/-s1pIgqWAP8s/AAAAAAAAAAI/AAAAAAAAAAc/E8XQqfGUQDE/s64/photo.jpg",
      "userId": "08881255222991216204"
     },
     "user_tz": -360
    },
    "id": "_XMqb2r6ZWjs",
    "outputId": "0d66586e-f77a-4063-be10-6f84c74eb3b3"
   },
   "outputs": [
    {
     "data": {
      "text/plain": [
       "12"
      ]
     },
     "execution_count": 33,
     "metadata": {},
     "output_type": "execute_result"
    }
   ],
   "source": [
    "arr.size  #Total element"
   ]
  },
  {
   "cell_type": "code",
   "execution_count": 34,
   "metadata": {
    "colab": {
     "base_uri": "https://localhost:8080/",
     "height": 36
    },
    "colab_type": "code",
    "executionInfo": {
     "elapsed": 1669,
     "status": "ok",
     "timestamp": 1543471242040,
     "user": {
      "displayName": "Sayef Reyadh",
      "photoUrl": "https://lh5.googleusercontent.com/-s1pIgqWAP8s/AAAAAAAAAAI/AAAAAAAAAAc/E8XQqfGUQDE/s64/photo.jpg",
      "userId": "08881255222991216204"
     },
     "user_tz": -360
    },
    "id": "O3Xx-WkaZfhB",
    "outputId": "1af0c4c3-6aad-434a-d751-d3c71532c7f9"
   },
   "outputs": [
    {
     "name": "stdout",
     "output_type": "stream",
     "text": [
      "[[0.45017601 0.47468824 0.48742594]\n",
      " [0.81971474 0.59562123 0.5938136 ]\n",
      " [0.96994218 0.33621011 0.56100564]\n",
      " [0.22294951 0.09933601 0.50986229]]\n"
     ]
    },
    {
     "data": {
      "text/plain": [
       "dtype('float64')"
      ]
     },
     "execution_count": 34,
     "metadata": {},
     "output_type": "execute_result"
    }
   ],
   "source": [
    "arr = np.random.rand(4,3)\n",
    "print(arr)\n",
    "arr.dtype"
   ]
  },
  {
   "cell_type": "code",
   "execution_count": 35,
   "metadata": {
    "colab": {
     "base_uri": "https://localhost:8080/",
     "height": 36
    },
    "colab_type": "code",
    "executionInfo": {
     "elapsed": 1624,
     "status": "ok",
     "timestamp": 1543471242042,
     "user": {
      "displayName": "Sayef Reyadh",
      "photoUrl": "https://lh5.googleusercontent.com/-s1pIgqWAP8s/AAAAAAAAAAI/AAAAAAAAAAc/E8XQqfGUQDE/s64/photo.jpg",
      "userId": "08881255222991216204"
     },
     "user_tz": -360
    },
    "id": "cpb_x3wMZ2bJ",
    "outputId": "cc7034c3-cab6-48e3-882d-6dd1a2712315"
   },
   "outputs": [
    {
     "data": {
      "text/plain": [
       "8"
      ]
     },
     "execution_count": 35,
     "metadata": {},
     "output_type": "execute_result"
    }
   ],
   "source": [
    "arr.itemsize"
   ]
  },
  {
   "cell_type": "code",
   "execution_count": 36,
   "metadata": {
    "colab": {
     "base_uri": "https://localhost:8080/",
     "height": 54
    },
    "colab_type": "code",
    "executionInfo": {
     "elapsed": 1591,
     "status": "ok",
     "timestamp": 1543471242051,
     "user": {
      "displayName": "Sayef Reyadh",
      "photoUrl": "https://lh5.googleusercontent.com/-s1pIgqWAP8s/AAAAAAAAAAI/AAAAAAAAAAc/E8XQqfGUQDE/s64/photo.jpg",
      "userId": "08881255222991216204"
     },
     "user_tz": -360
    },
    "id": "lmq_aG0BaJ-c",
    "outputId": "08389383-5cfd-4036-f300-a69812545723"
   },
   "outputs": [
    {
     "name": "stdout",
     "output_type": "stream",
     "text": [
      "<memory at 0x00000000057BB480>\n",
      "<memory at 0x00000000057BB480>\n"
     ]
    }
   ],
   "source": [
    "arr2 = arr #dont copy only pass the reference thats why there memory address are same...\n",
    "\n",
    "print(arr.data)\n",
    "print(arr2.data)"
   ]
  },
  {
   "cell_type": "code",
   "execution_count": 37,
   "metadata": {
    "colab": {
     "base_uri": "https://localhost:8080/",
     "height": 36
    },
    "colab_type": "code",
    "executionInfo": {
     "elapsed": 1573,
     "status": "ok",
     "timestamp": 1543471242066,
     "user": {
      "displayName": "Sayef Reyadh",
      "photoUrl": "https://lh5.googleusercontent.com/-s1pIgqWAP8s/AAAAAAAAAAI/AAAAAAAAAAc/E8XQqfGUQDE/s64/photo.jpg",
      "userId": "08881255222991216204"
     },
     "user_tz": -360
    },
    "id": "S-N4iCbZjV3Z",
    "outputId": "bdd4a812-33d2-4980-8457-ee09846df9cf"
   },
   "outputs": [
    {
     "data": {
      "text/plain": [
       "array([92, 39, 21, 98, 55, 64, 92, 73, 40, 77])"
      ]
     },
     "execution_count": 37,
     "metadata": {},
     "output_type": "execute_result"
    }
   ],
   "source": [
    "sample_arr = np.random.randint(0,100,10)\n",
    "\n",
    "sample_arr"
   ]
  },
  {
   "cell_type": "code",
   "execution_count": 38,
   "metadata": {},
   "outputs": [
    {
     "name": "stdout",
     "output_type": "stream",
     "text": [
      "92\n",
      "39\n",
      "21\n",
      "98\n",
      "55\n",
      "64\n",
      "92\n",
      "73\n",
      "40\n",
      "77\n"
     ]
    }
   ],
   "source": [
    "for data in sample_arr:\n",
    "    print(data)"
   ]
  },
  {
   "cell_type": "code",
   "execution_count": 39,
   "metadata": {
    "colab": {
     "base_uri": "https://localhost:8080/",
     "height": 202
    },
    "colab_type": "code",
    "executionInfo": {
     "elapsed": 1537,
     "status": "ok",
     "timestamp": 1543471242070,
     "user": {
      "displayName": "Sayef Reyadh",
      "photoUrl": "https://lh5.googleusercontent.com/-s1pIgqWAP8s/AAAAAAAAAAI/AAAAAAAAAAc/E8XQqfGUQDE/s64/photo.jpg",
      "userId": "08881255222991216204"
     },
     "user_tz": -360
    },
    "id": "R3WkZR7WjkxL",
    "outputId": "3bc91ff4-ee9f-4482-8cdf-ccb166d127e1"
   },
   "outputs": [
    {
     "name": "stdout",
     "output_type": "stream",
     "text": [
      "92\n",
      "39\n",
      "21\n",
      "98\n",
      "55\n",
      "64\n",
      "92\n",
      "73\n",
      "40\n",
      "77\n"
     ]
    }
   ],
   "source": [
    "#for i in range(len(sample_arr)):\n",
    "    #print(sample_arr)\n",
    "\n",
    "for i in range(len(sample_arr)):\n",
    "    print(sample_arr[i])"
   ]
  },
  {
   "cell_type": "code",
   "execution_count": 40,
   "metadata": {},
   "outputs": [
    {
     "data": {
      "text/plain": [
       "array([39, 98, 64, 73])"
      ]
     },
     "execution_count": 40,
     "metadata": {},
     "output_type": "execute_result"
    }
   ],
   "source": [
    "sample_arr[1:8:2]"
   ]
  },
  {
   "cell_type": "code",
   "execution_count": 41,
   "metadata": {
    "colab": {
     "base_uri": "https://localhost:8080/",
     "height": 54
    },
    "colab_type": "code",
    "executionInfo": {
     "elapsed": 1511,
     "status": "ok",
     "timestamp": 1543471242072,
     "user": {
      "displayName": "Sayef Reyadh",
      "photoUrl": "https://lh5.googleusercontent.com/-s1pIgqWAP8s/AAAAAAAAAAI/AAAAAAAAAAc/E8XQqfGUQDE/s64/photo.jpg",
      "userId": "08881255222991216204"
     },
     "user_tz": -360
    },
    "id": "naa5AYUcj_xd",
    "outputId": "21396905-97bc-46c9-f06e-cb38133a52d4"
   },
   "outputs": [
    {
     "name": "stdout",
     "output_type": "stream",
     "text": [
      "[92 39 21 98 55 64 92 73 40 77]\n"
     ]
    },
    {
     "data": {
      "text/plain": [
       "array([64, 92, 73, 40, 77])"
      ]
     },
     "execution_count": 41,
     "metadata": {},
     "output_type": "execute_result"
    }
   ],
   "source": [
    "print(sample_arr)\n",
    "sample_arr[5:]"
   ]
  },
  {
   "cell_type": "code",
   "execution_count": 42,
   "metadata": {
    "colab": {
     "base_uri": "https://localhost:8080/",
     "height": 54
    },
    "colab_type": "code",
    "executionInfo": {
     "elapsed": 1488,
     "status": "ok",
     "timestamp": 1543471242076,
     "user": {
      "displayName": "Sayef Reyadh",
      "photoUrl": "https://lh5.googleusercontent.com/-s1pIgqWAP8s/AAAAAAAAAAI/AAAAAAAAAAc/E8XQqfGUQDE/s64/photo.jpg",
      "userId": "08881255222991216204"
     },
     "user_tz": -360
    },
    "id": "8IiPtJ1QkqRQ",
    "outputId": "fa716984-3ffd-4f40-b70c-8683cabffd8e"
   },
   "outputs": [
    {
     "name": "stdout",
     "output_type": "stream",
     "text": [
      "[92 39 21 98 55 64 92 73 40 77]\n",
      "[1000 1000 1000 1000 1000 1000 1000 1000 1000 1000]\n",
      "<memory at 0x0000000005772B88>\n",
      "<memory at 0x0000000005772B88>\n"
     ]
    }
   ],
   "source": [
    "arr = sample_arr.copy()\n",
    "\n",
    "arr[:] = 1000\n",
    "\n",
    "print(sample_arr)\n",
    "print(arr)\n",
    "print(sample_arr.data)\n",
    "print(arr.data)"
   ]
  },
  {
   "cell_type": "code",
   "execution_count": null,
   "metadata": {},
   "outputs": [],
   "source": []
  },
  {
   "cell_type": "code",
   "execution_count": 43,
   "metadata": {
    "colab": {
     "base_uri": "https://localhost:8080/",
     "height": 110
    },
    "colab_type": "code",
    "executionInfo": {
     "elapsed": 1472,
     "status": "ok",
     "timestamp": 1543471242081,
     "user": {
      "displayName": "Sayef Reyadh",
      "photoUrl": "https://lh5.googleusercontent.com/-s1pIgqWAP8s/AAAAAAAAAAI/AAAAAAAAAAc/E8XQqfGUQDE/s64/photo.jpg",
      "userId": "08881255222991216204"
     },
     "user_tz": -360
    },
    "id": "zfSq40BSlgwK",
    "outputId": "e1942532-664e-4108-f2ac-59c61be01245"
   },
   "outputs": [
    {
     "name": "stdout",
     "output_type": "stream",
     "text": [
      "[[77 16 22 70 58]\n",
      " [17 49 53 80 55]\n",
      " [55 77 15 49  8]\n",
      " [20 48 49 84 50]\n",
      " [42 77 39 95 80]]\n"
     ]
    }
   ],
   "source": [
    "arr2d = np.random.randint(0,100,(5,5))\n",
    "\n",
    "print(arr2d)\n",
    "\n"
   ]
  },
  {
   "cell_type": "code",
   "execution_count": 44,
   "metadata": {},
   "outputs": [
    {
     "name": "stdout",
     "output_type": "stream",
     "text": [
      "55\n"
     ]
    }
   ],
   "source": [
    "print(arr2d[1][4])"
   ]
  },
  {
   "cell_type": "code",
   "execution_count": 45,
   "metadata": {},
   "outputs": [
    {
     "name": "stdout",
     "output_type": "stream",
     "text": [
      "55\n"
     ]
    }
   ],
   "source": [
    "print(arr2d[1,4])"
   ]
  },
  {
   "cell_type": "code",
   "execution_count": 46,
   "metadata": {},
   "outputs": [
    {
     "name": "stdout",
     "output_type": "stream",
     "text": [
      "[[16 22 70 58]\n",
      " [49 53 80 55]]\n"
     ]
    }
   ],
   "source": [
    "print(arr2d[:2,1:])  #row = :2  col = 1:"
   ]
  },
  {
   "cell_type": "code",
   "execution_count": 47,
   "metadata": {},
   "outputs": [
    {
     "name": "stdout",
     "output_type": "stream",
     "text": [
      "[[84 50]\n",
      " [95 80]]\n"
     ]
    }
   ],
   "source": [
    "print(arr2d[3:5,3:5])"
   ]
  },
  {
   "cell_type": "code",
   "execution_count": 48,
   "metadata": {
    "colab": {
     "base_uri": "https://localhost:8080/",
     "height": 54
    },
    "colab_type": "code",
    "executionInfo": {
     "elapsed": 1463,
     "status": "ok",
     "timestamp": 1543471242093,
     "user": {
      "displayName": "Sayef Reyadh",
      "photoUrl": "https://lh5.googleusercontent.com/-s1pIgqWAP8s/AAAAAAAAAAI/AAAAAAAAAAc/E8XQqfGUQDE/s64/photo.jpg",
      "userId": "08881255222991216204"
     },
     "user_tz": -360
    },
    "id": "OcQmnCTCmIhn",
    "outputId": "1524f4e3-ceb5-4a4f-8ab5-e7818522f67b"
   },
   "outputs": [
    {
     "data": {
      "text/plain": [
       "array([[49, 53],\n",
       "       [77, 15]])"
      ]
     },
     "execution_count": 48,
     "metadata": {},
     "output_type": "execute_result"
    }
   ],
   "source": [
    "# print(arr2d)\n",
    "arr2d[1:3,1:3]"
   ]
  },
  {
   "cell_type": "code",
   "execution_count": 49,
   "metadata": {
    "colab": {
     "base_uri": "https://localhost:8080/",
     "height": 36
    },
    "colab_type": "code",
    "executionInfo": {
     "elapsed": 1449,
     "status": "ok",
     "timestamp": 1543471242097,
     "user": {
      "displayName": "Sayef Reyadh",
      "photoUrl": "https://lh5.googleusercontent.com/-s1pIgqWAP8s/AAAAAAAAAAI/AAAAAAAAAAc/E8XQqfGUQDE/s64/photo.jpg",
      "userId": "08881255222991216204"
     },
     "user_tz": -360
    },
    "id": "e7vjRhZ4sVkr",
    "outputId": "c0cdded4-8eef-4a83-935d-5cbe24be72d3"
   },
   "outputs": [
    {
     "data": {
      "text/plain": [
       "array([0, 1, 2, 3])"
      ]
     },
     "execution_count": 49,
     "metadata": {},
     "output_type": "execute_result"
    }
   ],
   "source": [
    "arr = np.arange(0,11)\n",
    "bool_arr = arr > 4\n",
    "\n",
    "arr2 = arr[arr < 4]\n",
    "\n",
    "arr2"
   ]
  },
  {
   "cell_type": "code",
   "execution_count": 50,
   "metadata": {},
   "outputs": [
    {
     "name": "stdout",
     "output_type": "stream",
     "text": [
      "[False False False False  True  True  True  True  True  True  True]\n",
      "[0 1 2 3]\n",
      "[ 0  1  2  3  4  5  6  7  8  9 10]\n"
     ]
    }
   ],
   "source": [
    "arr = np.arange(0,11)\n",
    "\n",
    "bool_arr = arr >= 4\n",
    "print(bool_arr)\n",
    "\n",
    "arr2 = arr[arr<4]\n",
    "print(arr2)\n",
    "print(arr)"
   ]
  },
  {
   "cell_type": "code",
   "execution_count": 54,
   "metadata": {},
   "outputs": [
    {
     "name": "stdout",
     "output_type": "stream",
     "text": [
      "[ 2  4  6  8 10 12 14 16 18 20 22 24]\n",
      "[1. 1. 1. 1. 1. 1. 1. 1. 1. 1. 1. 1.]\n"
     ]
    }
   ],
   "source": [
    "arr1 = np.arange(1,13)\n",
    "arr2 = np.arange(1,13)\n",
    "\n",
    "print(arr1 + arr2)\n",
    "\n",
    "print(arr1 / arr2)\n"
   ]
  },
  {
   "cell_type": "code",
   "execution_count": 52,
   "metadata": {
    "colab": {},
    "colab_type": "code",
    "id": "OhIyvqhs4ML2"
   },
   "outputs": [],
   "source": [
    "## https://docs.scipy.org/doc/numpy/reference/ufuncs.html"
   ]
  },
  {
   "cell_type": "code",
   "execution_count": 61,
   "metadata": {
    "colab": {
     "base_uri": "https://localhost:8080/",
     "height": 91
    },
    "colab_type": "code",
    "executionInfo": {
     "elapsed": 776,
     "status": "ok",
     "timestamp": 1543472105541,
     "user": {
      "displayName": "Sayef Reyadh",
      "photoUrl": "https://lh5.googleusercontent.com/-s1pIgqWAP8s/AAAAAAAAAAI/AAAAAAAAAAc/E8XQqfGUQDE/s64/photo.jpg",
      "userId": "08881255222991216204"
     },
     "user_tz": -360
    },
    "id": "8tiTsqXCD69l",
    "outputId": "75b547b0-27f2-4e68-805f-16e5f3b4a923"
   },
   "outputs": [
    {
     "name": "stdout",
     "output_type": "stream",
     "text": [
      "[[ 1  2  3]\n",
      " [ 4  5  6]\n",
      " [ 7  8  9]\n",
      " [10 11 12]]\n",
      "[[ 1  2  3]\n",
      " [ 4  5  6]\n",
      " [ 7  8  9]\n",
      " [10 11 12]]\n",
      "[[  1   4   9]\n",
      " [ 16  25  36]\n",
      " [ 49  64  81]\n",
      " [100 121 144]]\n",
      "[[ 2  4  6]\n",
      " [ 8 10 12]\n",
      " [14 16 18]\n",
      " [20 22 24]]\n",
      "[[0 0 0]\n",
      " [0 0 0]\n",
      " [0 0 0]\n",
      " [0 0 0]]\n",
      "[[1. 1. 1.]\n",
      " [1. 1. 1.]\n",
      " [1. 1. 1.]\n",
      " [1. 1. 1.]]\n",
      "[[ 2  4  6]\n",
      " [ 8 10 12]\n",
      " [14 16 18]\n",
      " [20 22 24]]\n",
      "12\n"
     ]
    }
   ],
   "source": [
    "arr = np.arange(1,13).reshape(4,3)\n",
    "arr2 = np.arange(1,13).reshape(4,3)\n",
    "\n",
    "print(arr)\n",
    "print(arr2)\n",
    "\n",
    "print(arr * arr2)\n",
    "print(arr + arr2)\n",
    "print(arr - arr2)\n",
    "print(arr / arr2)\n",
    "\n",
    "print(np.add(arr,arr2))\n",
    "\n",
    "print(np.max(arr))"
   ]
  },
  {
   "cell_type": "code",
   "execution_count": null,
   "metadata": {},
   "outputs": [],
   "source": [
    "\n"
   ]
  }
 ],
 "metadata": {
  "accelerator": "TPU",
  "colab": {
   "name": "numpy.ipynb",
   "provenance": [],
   "version": "0.3.2"
  },
  "kernelspec": {
   "display_name": "Python 3",
   "language": "python",
   "name": "python3"
  },
  "language_info": {
   "codemirror_mode": {
    "name": "ipython",
    "version": 3
   },
   "file_extension": ".py",
   "mimetype": "text/x-python",
   "name": "python",
   "nbconvert_exporter": "python",
   "pygments_lexer": "ipython3",
   "version": "3.7.3"
  }
 },
 "nbformat": 4,
 "nbformat_minor": 1
}
